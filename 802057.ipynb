{
 "cells": [
  {
   "cell_type": "markdown",
   "metadata": {"-.-"},
   "source": [
    "# CW 1 Developing Optimisers in Python"
   ]
  },
  {
   "cell_type": "markdown",
   "metadata": {},
   "source": [
    "I choose Genetic Algorithm for this coursework.<p> As there are constraints $g_i(x)$, which means the feasible section of $x1,x2,x3$ should not be continuous. If Trunction or Tournament method were used for this problem, the result may be misled to a local minimum and will not get out. So I choose Roulette Wheel for parent selection, which can enrich the range of X and jump out of the local minimum point.<br> According to the function: $f(x)=x_1^2 x_2(2+x_3)$<br> Integer Encoding seems more suitable for this problem. Otherwise if we use Binary Encoding, according to the precisions, the length of the binary code would be very large and will reduce efficiency. Another problem is that even with the help of lab4 I cannot deal with binary encoding with $x_1,x_2,x_3$. <br>Linear crossover and Gaussian mutation, which were taught in lecture are also implemented under the constraint of numpy.clip."
   ]
  },
  {
   "cell_type": "markdown",
   "metadata": {},
   "source": [
    "There are 3 reasons why I choose Genetic Algorithm.<p>\n",
    "    1. For the exploitation, GA with linear crossover and Gaussian mutation is better than SA. By using linear crossover and Gaussian mutation, the perturbation of $x_1,x_2,x_3$ may lead to a better result. <br>2. GA uses population of optimize, which means by using the roulette wheel for parent selection can find the optimal solution in the whole feasible space. GA can avoid from being trapped in the local minimum.<br>3. The process of programming is really challenging. In this coursework, I first used SA, but I think I should try GA and make a comparison between them. Despite the help of lab4_solution, I still finished GA with great difficulty. In these days, lots of bugs and problems were solved and this process did improve my understanding of Python and Genetic Algorithms."
   ]
  },
  {
   "cell_type": "markdown",
   "metadata": {},
   "source": [
    "I used Death Panelty for RS because the number of function evaluations on $f(x)$ is 3000 at most. This can be very tricky if using the Death Panelty to kill all $x_1,x_2,x_3$ which are not in the feasible area. Function $f(x)$ will only be called is all $g_i(x)$ are satisfied. It is clear that, because of Death Penalty, function $g_1(x)$ has been called for 300000 times, however $f(x)$ has only been called less than 3000 times. This can increase the accuracy of RS and get better result.<p>However, I used Static Penalty for GA. Because according to the RS, the feasible area of $x_1,x_2,x_3$ is very small, which is around $3000/300000$ of the entire area. If Death Penalty is used for GA, the population of GA should be very large, or all the individuals of the population would be killed. If the population is small, the former generation which was killed made no contribution to their offspring. However Static Penalty can solve this problem, the population and generation of GA do not need to be very large. This greatly increases the efficiency of the algorithm."
   ]
  },
  {
   "cell_type": "markdown",
   "metadata": {
    "collapsed": true,
    "pycharm": {
     "name": "#%% md\n"
    }
   },
   "source": [
    "### Task 1 Implement all the functions $f(x)$ and $g_i(x)$"
   ]
  },
  {
   "cell_type": "code",
   "execution_count": 1,
   "metadata": {
    "pycharm": {
     "name": "#%%\n"
    }
   },
   "outputs": [],
   "source": [
    "count_g1=0\n",
    "def g1(x):\n",
    "    global count_g1\n",
    "    count_g1 += 1\n",
    "    return 1-(x[1]**3*x[2])/(71785*x[0]**4)\n",
    "count_g2=0\n",
    "def g2(x):\n",
    "    global count_g2\n",
    "    count_g2 += 1\n",
    "    return (4*x[1]**2-(x[0]*x[1]))/(12566*(x[1]*x[0]**3-x[0]**4))\\\n",
    "    + 1/(5108*x[0]*x[0]) -1\n",
    "count_g3=0\n",
    "def g3(x):\n",
    "    global count_g3\n",
    "    count_g3 +=1\n",
    "    return 1-140.45*x[0]/(x[1]**2*x[2])\n",
    "count_g4=0\n",
    "def g4(x):\n",
    "    global count_g4\n",
    "    count_g4 += 1\n",
    "    return (x[0]+x[1])/1.5 -1\n",
    "count_f=0\n",
    "def f(x,g1,g2,g3,g4):\n",
    "    if g1(x) <= 0 and\\\n",
    "    g2(x) <= 0 and\\\n",
    "    g3(x) <= 0 and\\\n",
    "    g4(x) <= 0:\n",
    "        global count_f\n",
    "        count_f += 1\n",
    "        return x[0]**2*x[1]*(2+x[2])\n",
    "    else: return 10\n",
    "def s(x,g1,g2,g3,g4):\n",
    "    return 4*(np.max([0,g1(x)])**1+\n",
    "              np.max([0,g2(x)])**1+\n",
    "              np.max([0,g3(x)])**1+\n",
    "              np.max([0,g4(x)])**1)\n",
    "count_fs=0\n",
    "def fs(x,g1,g2,g3,g4,s):\n",
    "    global count_fs\n",
    "    count_fs += 1\n",
    "    return x[0]**2*x[1]*(2+x[2])+\\\n",
    "           s(x,g1,g2,g3,g4)"
   ]
  },
  {
   "cell_type": "code",
   "execution_count": 2,
   "metadata": {
    "pycharm": {
     "name": "#%%\n"
    }
   },
   "outputs": [],
   "source": [
    "import matplotlib.pyplot as plt\n",
    "import numpy as np\n",
    "from scipy.stats import multivariate_normal\n",
    "plt.ion()"
   ]
  },
  {
   "cell_type": "markdown",
   "metadata": {
    "pycharm": {
     "name": "#%% md\n"
    }
   },
   "source": [
    "### Task 2 Random Search\n"
   ]
  },
  {
   "cell_type": "code",
   "execution_count": 3,
   "metadata": {
    "pycharm": {
     "name": "#%%\n"
    }
   },
   "outputs": [],
   "source": [
    "def random_search(function, max_iter, lower_bound,\n",
    "                  upper_bound):\n",
    "    global count_f,count_g1,count_g2,count_g3,count_g4\n",
    "    count_f = 0\n",
    "    count_g1 = 0\n",
    "    count_g2 = 0\n",
    "    count_g3 = 0\n",
    "    count_g4 = 0\n",
    "    points_to_evaluate = np.random.uniform(low=lower_bound,\n",
    "                                           high=upper_bound,\n",
    "                                           size=(max_iter,len(lower_bound)))\n",
    "    results = np.array([function(point,g1,g2,g3,g4)\n",
    "                       for point in points_to_evaluate])\n",
    "    best_ind = np.argmin(results)\n",
    "    return points_to_evaluate[best_ind], results[best_ind]"
   ]
  },
  {
   "cell_type": "code",
   "execution_count": 4,
   "metadata": {
    "pycharm": {
     "name": "#%%\n"
    }
   },
   "outputs": [],
   "source": [
    "number_of_samples = 300000\n",
    "lower_bound = np.array([0.05,0.25,2])\n",
    "upper_bound = np.array([2,1.3,15])\n",
    "res_RS = random_search(f,number_of_samples,\n",
    "                    lower_bound,upper_bound)"
   ]
  },
  {
   "cell_type": "code",
   "execution_count": 5,
   "metadata": {
    "pycharm": {
     "name": "#%%\n"
    }
   },
   "outputs": [
    {
     "name": "stdout",
     "output_type": "stream",
     "text": [
      "The best solution is [ 0.05285657  0.37225885 10.89421349]\n",
      "The min result 0.013410279872555709\n",
      "Function f(x) has been called for 2294 times\n",
      "Function g1(x) has been called for 300000 times\n",
      "Function g2(x) has been called for 5179 times\n",
      "Function g3(x) has been called for 3144 times\n",
      "Function g4(x) has been called for 2294 times\n"
     ]
    }
   ],
   "source": [
    "print('The best solution is {}'.format(res_RS[0]))\n",
    "print('The min result {}'.format(res_RS[1]))\n",
    "print('Function f(x) has been called for {} times'.format(count_f))\n",
    "print('Function g1(x) has been called for {} times'.format(count_g1))\n",
    "print('Function g2(x) has been called for {} times'.format(count_g2))\n",
    "print('Function g3(x) has been called for {} times'.format(count_g3))\n",
    "print('Function g4(x) has been called for {} times'.format(count_g4))"
   ]
  },
  {
   "cell_type": "markdown",
   "metadata": {
    "pycharm": {
     "name": "#%% md\n"
    }
   },
   "source": [
    "### Task 3 Genetic Algorithm"
   ]
  },
  {
   "cell_type": "code",
   "execution_count": 6,
   "metadata": {
    "pycharm": {
     "name": "#%%\n"
    }
   },
   "outputs": [],
   "source": [
    "def gen_pop(n_rows):\n",
    "    population = np.random.uniform(low=lower_bound,\n",
    "                                       high=upper_bound,\n",
    "                                       size=(n_rows,len(lower_bound)))\n",
    "    return population"
   ]
  },
  {
   "cell_type": "code",
   "execution_count": 7,
   "metadata": {
    "pycharm": {
     "name": "#%%\n"
    }
   },
   "outputs": [],
   "source": [
    "def roulette(f_vector, to_choose=2):\n",
    "    fv = (f_vector - np.max(f_vector) - 0.000005)/\\\n",
    "         (np.max(f_vector) - np.min(f_vector) - 0.000005)\n",
    "    total_fit = np.sum(-fv)\n",
    "    sel_probs = -fv/total_fit\n",
    "    inds = np.arange(fv.shape[0])\n",
    "    picked_inds = np.random.choice(inds,\n",
    "                                   p=sel_probs,\n",
    "                                   size=to_choose,\n",
    "                                   replace=False)\n",
    "    return picked_inds"
   ]
  },
  {
   "cell_type": "code",
   "execution_count": 8,
   "metadata": {
    "pycharm": {
     "name": "#%%\n"
    }
   },
   "outputs": [],
   "source": [
    "def linear_cx(a, b):\n",
    "    c1 = (a+b)/2\n",
    "    c2 = 1.5*a - 0.5*b\n",
    "    c3 = -0.5*a + 1.5*b\n",
    "    c1 = np.clip(c1,lower_bound,upper_bound)\n",
    "    c2 = np.clip(c2,lower_bound,upper_bound)\n",
    "    c3 = np.clip(c3,lower_bound,upper_bound)\n",
    "    return c1, c2, c3"
   ]
  },
  {
   "cell_type": "code",
   "execution_count": 9,
   "metadata": {
    "pycharm": {
     "name": "#%%\n"
    }
   },
   "outputs": [],
   "source": [
    "def gaussian_mutation(cg):\n",
    "    ga1 = multivariate_normal.rvs(mean=0,cov=0.1*\n",
    "                                        (upper_bound[0]-\n",
    "                                         lower_bound[0]))\n",
    "    ga2 = multivariate_normal.rvs(mean=0,cov=0.1*\n",
    "                                        (upper_bound[1]-\n",
    "                                         lower_bound[1]))\n",
    "    ga3 = multivariate_normal.rvs(mean=0,cov=0.1*\n",
    "                                        (upper_bound[2]-\n",
    "                                         lower_bound[2]))\n",
    "    cg[0] += ga1\n",
    "    cg[1] += ga2\n",
    "    cg[2] += ga3\n",
    "    c = np.clip(cg,lower_bound,upper_bound)\n",
    "    return c"
   ]
  },
  {
   "cell_type": "code",
   "execution_count": 22,
   "metadata": {
    "pycharm": {
     "name": "#%%\n"
    }
   },
   "outputs": [],
   "source": [
    "def GA(func, generation, mut_rate=0.4, cx_rate=0.8, n_rows=30):\n",
    "    global count_fs,count_g1,count_g2,count_g3,count_g4\n",
    "    count_fs = 0\n",
    "    count_g1 = 0\n",
    "    count_g2 = 0\n",
    "    count_g3 = 0\n",
    "    count_g4 = 0\n",
    "    P = gen_pop(n_rows)\n",
    "    f_vector = np.array([func(point,g1,g2,g3,g4,s)\n",
    "                       for point in P])\n",
    "    sorted_inds = np.argsort(f_vector)\n",
    "    xbest = [P[sorted_inds[0]]]\n",
    "    fbest = [f_vector[sorted_inds[0]]]\n",
    "    for i in range(generation+1):\n",
    "        pinds = roulette(f_vector)\n",
    "        a, b = P[pinds][0], P[pinds][1]\n",
    "        pcx = np.random.random()\n",
    "        if pcx <= cx_rate:\n",
    "            c1, c2, c3 = linear_cx(a, b)\n",
    "        else:\n",
    "            c1, c2 = np.array(a), np.array(b)\n",
    "            i = np.random.random()\n",
    "            if i <= 0.5:\n",
    "                c3 = np.array(a)\n",
    "            else:\n",
    "                c3 = np.array(b)\n",
    "        pm = np.random.random()\n",
    "        if pm <= mut_rate:\n",
    "            c1p = gaussian_mutation(c1)\n",
    "            c2p = gaussian_mutation(c2)\n",
    "            c3p = gaussian_mutation(c3)\n",
    "        else:\n",
    "            c1p, c2p, c3p = np.array(c1), np.array(c2), np.array(c3)\n",
    "        Pnew = np.concatenate([P, c1p[np.newaxis,:],\n",
    "                               c2p[np.newaxis,:],\n",
    "                               c3p[np.newaxis,:]])\n",
    "        f_vector = np.array([func(point,g1,g2,g3,g4,s)\n",
    "                       for point in Pnew])\n",
    "        sorted_inds = np.argsort(f_vector)\n",
    "        P = Pnew[sorted_inds][:n_rows]\n",
    "        f_vector = f_vector[sorted_inds][:n_rows]\n",
    "        xbest.append(P[0])\n",
    "        fbest.append(f_vector[0])\n",
    "    return P, f_vector, xbest, fbest"
   ]
  },
  {
   "cell_type": "code",
   "execution_count": 23,
   "metadata": {
    "pycharm": {
     "name": "#%%\n"
    }
   },
   "outputs": [],
   "source": [
    "res_GA = GA(fs, 90)"
   ]
  },
  {
   "cell_type": "code",
   "execution_count": 24,
   "metadata": {
    "pycharm": {
     "name": "#%%\n"
    }
   },
   "outputs": [
    {
     "name": "stdout",
     "output_type": "stream",
     "text": [
      "The best solution is [0.0695203  0.93930699 3.00156271]\n",
      "The min result 0.02270578369786349\n",
      "Function fs(x) has been called for 3033 times\n",
      "Function g1(x) has been called for 3033 times\n",
      "Function g2(x) has been called for 3033 times\n",
      "Function g3(x) has been called for 3033 times\n",
      "Function g4(x) has been called for 3033 times\n"
     ]
    }
   ],
   "source": [
    "print('The best solution is {}'.format(res_GA[0][np.argmin(res_GA[1])]))\n",
    "print('The min result {}'.format(np.min(res_GA[1])))\n",
    "print('Function fs(x) has been called for {} times'.format(count_fs))\n",
    "print('Function g1(x) has been called for {} times'.format(count_g1))\n",
    "print('Function g2(x) has been called for {} times'.format(count_g2))\n",
    "print('Function g3(x) has been called for {} times'.format(count_g3))\n",
    "print('Function g4(x) has been called for {} times'.format(count_g4))"
   ]
  },
  {
   "cell_type": "code",
   "execution_count": 25,
   "metadata": {
    "pycharm": {
     "name": "#%%\n"
    }
   },
   "outputs": [
    {
     "data": {
      "text/plain": [
       "Text(0, 0.5, 'Best Fitness Value')"
      ]
     },
     "execution_count": 25,
     "metadata": {},
     "output_type": "execute_result"
    },
    {
     "data": {
      "image/png": "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\n",
      "text/plain": [
       "<Figure size 432x288 with 1 Axes>"
      ]
     },
     "metadata": {
      "needs_background": "light"
     },
     "output_type": "display_data"
    }
   ],
   "source": [
    "plt.plot(res_GA[-1])\n",
    "plt.xlabel(\"Number of Generations\")\n",
    "plt.ylabel(\"Best Fitness Value\")"
   ]
  },
  {
   "cell_type": "markdown",
   "metadata": {},
   "source": [
    "### Task 4 Repetitions of each of the algorithms"
   ]
  },
  {
   "cell_type": "code",
   "execution_count": 14,
   "metadata": {
    "pycharm": {
     "name": "#%%\n"
    }
   },
   "outputs": [
    {
     "name": "stdout",
     "output_type": "stream",
     "text": [
      "0.012869967353200232\n"
     ]
    }
   ],
   "source": [
    "n_repeats = 21\n",
    "res_random = [random_search(f, number_of_samples,\n",
    "                  lower_bound, upper_bound) [1]\n",
    "            for i in range(n_repeats)]\n",
    "best_ind = np.argmin(res_random)\n",
    "print(res_random[best_ind])"
   ]
  },
  {
   "cell_type": "code",
   "execution_count": 15,
   "metadata": {
    "pycharm": {
     "name": "#%%\n"
    }
   },
   "outputs": [
    {
     "name": "stdout",
     "output_type": "stream",
     "text": [
      "0.013336587232384567\n"
     ]
    }
   ],
   "source": [
    "n_repeats = 21\n",
    "res_GA_sum = [GA(fs, 100)[-1][-1]\n",
    "              for i in range(n_repeats)]\n",
    "best_ind = np.argmin(res_GA_sum)\n",
    "print(res_GA_sum[best_ind])"
   ]
  },
  {
   "cell_type": "code",
   "execution_count": 16,
   "metadata": {
    "pycharm": {
     "name": "#%%\n"
    }
   },
   "outputs": [
    {
     "data": {
      "text/plain": [
       "([<matplotlib.axis.XTick at 0x1b693472f40>,\n",
       "  <matplotlib.axis.XTick at 0x1b693472f10>],\n",
       " [Text(1, 0, 'Random Search'), Text(2, 0, 'Genetic Algorithm')])"
      ]
     },
     "execution_count": 16,
     "metadata": {},
     "output_type": "execute_result"
    },
    {
     "data": {
      "image/png": "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\n",
      "text/plain": [
       "<Figure size 432x288 with 1 Axes>"
      ]
     },
     "metadata": {
      "needs_background": "light"
     },
     "output_type": "display_data"
    }
   ],
   "source": [
    "plt.boxplot([res_random,res_GA_sum])\n",
    "plt.ylabel('Best Objective Value')\n",
    "plt.xticks([1,2],['Random Search','Genetic Algorithm'])"
   ]
  },
  {
   "cell_type": "markdown",
   "metadata": {},
   "source": [
    "From the figure, it seems that RS is better than GA, however it is because of the limitation of call of $f(x)$. There are outliers of GA at very large point. But we can find that the minimum of GA and RS are similar.<br> In my opinion, this is due to the Death Penalty of RS, which means function $g_1(x)$ has been called over 300000 times and f(x) has been called less than 3000 times. If we can set the generation to K = 1000 or more, I think there would be another reult."
   ]
  },
  {
   "cell_type": "code",
   "execution_count": 21,
   "metadata": {},
   "outputs": [
    {
     "data": {
      "text/plain": [
       "([<matplotlib.axis.XTick at 0x1b694686ca0>,\n",
       "  <matplotlib.axis.XTick at 0x1b694686c70>],\n",
       " [Text(1, 0, 'Random Search'), Text(2, 0, 'Genetic Algorithm')])"
      ]
     },
     "execution_count": 21,
     "metadata": {},
     "output_type": "execute_result"
    },
    {
     "data": {
      "image/png": "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\n",
      "text/plain": [
       "<Figure size 432x288 with 1 Axes>"
      ]
     },
     "metadata": {
      "needs_background": "light"
     },
     "output_type": "display_data"
    }
   ],
   "source": [
    "res_GA_cut = np.clip(res_GA_sum,0,0.04)\n",
    "plt.boxplot([res_random,res_GA_cut])\n",
    "plt.ylabel('Best Objective Value')\n",
    "plt.xticks([1,2],['Random Search','Genetic Algorithm'])"
   ]
  },
  {
   "cell_type": "code",
   "execution_count": null,
   "metadata": {},
   "outputs": [],
   "source": []
  }
 ],
 "metadata": {
  "kernelspec": {
   "display_name": "Python 3",
   "language": "python",
   "name": "python3"
  },
  "language_info": {
   "codemirror_mode": {
    "name": "ipython",
    "version": 3
   },
   "file_extension": ".py",
   "mimetype": "text/x-python",
   "name": "python",
   "nbconvert_exporter": "python",
   "pygments_lexer": "ipython3",
   "version": "3.8.5"
  }
 },
 "nbformat": 4,
 "nbformat_minor": 1
}
